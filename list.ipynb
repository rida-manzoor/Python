{
 "cells": [
  {
   "cell_type": "markdown",
   "id": "a9668657",
   "metadata": {},
   "source": [
    "# List\n",
    "\n",
    "    - Lists are ordered, mutable collection of items\n",
    "\n",
    "    - They can contain items of different data types\n",
    "\n",
    "\n"
   ]
  },
  {
   "cell_type": "code",
   "execution_count": 1,
   "id": "a79a05ce",
   "metadata": {},
   "outputs": [
    {
     "name": "stdout",
     "output_type": "stream",
     "text": [
      "<class 'list'>\n"
     ]
    }
   ],
   "source": [
    "lst = []\n",
    "\n",
    "print(type(lst))"
   ]
  },
  {
   "cell_type": "code",
   "execution_count": 2,
   "id": "1d12946d",
   "metadata": {},
   "outputs": [
    {
     "name": "stdout",
     "output_type": "stream",
     "text": [
      "['rida', 'jack', 'q', 1, 0.4]\n"
     ]
    }
   ],
   "source": [
    "lst = [\"rida\", \"jack\", \"q\", 1, 0.4]\n",
    "\n",
    "print(lst)"
   ]
  },
  {
   "cell_type": "code",
   "execution_count": 3,
   "id": "7079735f",
   "metadata": {},
   "outputs": [
    {
     "name": "stdout",
     "output_type": "stream",
     "text": [
      "apple\n"
     ]
    }
   ],
   "source": [
    "## Accessing List Elements\n",
    "\n",
    "\n",
    "fruits = [\"apple\", \"banana\", \"cherry\", \"Kiwi\", \"Grape\", \"gauva\"]\n",
    "\n",
    "print(fruits[0])"
   ]
  },
  {
   "cell_type": "code",
   "execution_count": 4,
   "id": "bfa71a3f",
   "metadata": {},
   "outputs": [
    {
     "name": "stdout",
     "output_type": "stream",
     "text": [
      "gauva\n"
     ]
    }
   ],
   "source": [
    "print(fruits[-1])"
   ]
  },
  {
   "cell_type": "code",
   "execution_count": 5,
   "id": "cda3e91f",
   "metadata": {},
   "outputs": [
    {
     "name": "stdout",
     "output_type": "stream",
     "text": [
      "['banana', 'cherry', 'Kiwi']\n"
     ]
    }
   ],
   "source": [
    "print(fruits[1:4])"
   ]
  },
  {
   "cell_type": "code",
   "execution_count": 6,
   "id": "127e18bb",
   "metadata": {},
   "outputs": [
    {
     "name": "stdout",
     "output_type": "stream",
     "text": [
      "['banana', 'Kiwi', 'gauva']\n"
     ]
    }
   ],
   "source": [
    "print(fruits[1:6:2])"
   ]
  },
  {
   "cell_type": "code",
   "execution_count": 7,
   "id": "913edbae",
   "metadata": {},
   "outputs": [
    {
     "name": "stdout",
     "output_type": "stream",
     "text": [
      "Kiwi\n"
     ]
    }
   ],
   "source": [
    "print(fruits[-3])"
   ]
  },
  {
   "cell_type": "code",
   "execution_count": 8,
   "id": "a7fa5a56",
   "metadata": {},
   "outputs": [
    {
     "name": "stdout",
     "output_type": "stream",
     "text": [
      "['banana', 'cherry', 'Kiwi', 'Grape', 'gauva']\n"
     ]
    }
   ],
   "source": [
    "print(fruits[1:])"
   ]
  },
  {
   "cell_type": "code",
   "execution_count": 9,
   "id": "7ad10d8c",
   "metadata": {},
   "outputs": [
    {
     "name": "stdout",
     "output_type": "stream",
     "text": [
      "[]\n"
     ]
    }
   ],
   "source": [
    "print(fruits[-1:2])"
   ]
  },
  {
   "cell_type": "code",
   "execution_count": 10,
   "id": "cbe807c7",
   "metadata": {},
   "outputs": [
    {
     "name": "stdout",
     "output_type": "stream",
     "text": [
      "[]\n"
     ]
    }
   ],
   "source": [
    "print(fruits[-1:-3])"
   ]
  },
  {
   "cell_type": "markdown",
   "id": "af14b832",
   "metadata": {},
   "source": [
    "## Modifying the List Elements"
   ]
  },
  {
   "cell_type": "code",
   "execution_count": 13,
   "id": "2bd447af",
   "metadata": {},
   "outputs": [
    {
     "name": "stdout",
     "output_type": "stream",
     "text": [
      "['apple', 'watermelon', 'cherry', 'Kiwi', 'Grape', 'gauva']\n"
     ]
    }
   ],
   "source": [
    "fruits[1] = \"watermelon\"\n",
    "\n",
    "print(fruits)"
   ]
  },
  {
   "cell_type": "code",
   "execution_count": 14,
   "id": "c0f37da1",
   "metadata": {},
   "outputs": [],
   "source": [
    "fruits[1:] = \"melon\""
   ]
  },
  {
   "cell_type": "code",
   "execution_count": 16,
   "id": "87a2b65c",
   "metadata": {},
   "outputs": [
    {
     "name": "stdout",
     "output_type": "stream",
     "text": [
      "['apple', 'm', 'e', 'l', 'o', 'n']\n"
     ]
    }
   ],
   "source": [
    "# problem here is we wanna add a word \"melon\" on 1 index replacing all \n",
    "# following indices but it is taking it as character\n",
    "\n",
    "\n",
    "print(fruits)"
   ]
  },
  {
   "cell_type": "code",
   "execution_count": 17,
   "id": "093f7530",
   "metadata": {},
   "outputs": [],
   "source": [
    "fruit = [\"apple\", \"banana\", \"cherry\", \"Kiwi\", \"Grape\", \"gauva\"]\n"
   ]
  },
  {
   "cell_type": "markdown",
   "id": "50680799",
   "metadata": {},
   "source": [
    "## List Methods"
   ]
  },
  {
   "cell_type": "code",
   "execution_count": 19,
   "id": "b363c235",
   "metadata": {},
   "outputs": [
    {
     "name": "stdout",
     "output_type": "stream",
     "text": [
      "['apple', 'banana', 'cherry', 'Kiwi', 'Grape', 'gauva', 'orangw', 'orange']\n"
     ]
    }
   ],
   "source": [
    "# It will add item at end of list\n",
    "\n",
    "fruit.append(\"orange\")\n",
    "\n",
    "print(fruit)"
   ]
  },
  {
   "cell_type": "code",
   "execution_count": 20,
   "id": "85682890",
   "metadata": {},
   "outputs": [
    {
     "name": "stdout",
     "output_type": "stream",
     "text": [
      "['apple', 'watermelon', 'banana', 'cherry', 'Kiwi', 'Grape', 'gauva', 'orangw', 'orange']\n"
     ]
    }
   ],
   "source": [
    "# It will add item at specific postion/index\n",
    "\n",
    "fruit.insert(1,\"watermelon\")\n",
    "print(fruit)"
   ]
  },
  {
   "cell_type": "code",
   "execution_count": 22,
   "id": "3ff9abbb",
   "metadata": {},
   "outputs": [
    {
     "ename": "ValueError",
     "evalue": "list.remove(x): x not in list",
     "output_type": "error",
     "traceback": [
      "\u001b[31m---------------------------------------------------------------------------\u001b[39m",
      "\u001b[31mValueError\u001b[39m                                Traceback (most recent call last)",
      "\u001b[36mCell\u001b[39m\u001b[36m \u001b[39m\u001b[32mIn[22]\u001b[39m\u001b[32m, line 5\u001b[39m\n\u001b[32m      1\u001b[39m \u001b[38;5;66;03m# If wanna remove any item\u001b[39;00m\n\u001b[32m      2\u001b[39m \n\u001b[32m      3\u001b[39m \u001b[38;5;66;03m# it will remove the first occrance of an item\u001b[39;00m\n\u001b[32m----> \u001b[39m\u001b[32m5\u001b[39m \u001b[43mfruit\u001b[49m\u001b[43m.\u001b[49m\u001b[43mremove\u001b[49m\u001b[43m(\u001b[49m\u001b[33;43m\"\u001b[39;49m\u001b[33;43morangw\u001b[39;49m\u001b[33;43m\"\u001b[39;49m\u001b[43m)\u001b[49m\n\u001b[32m      7\u001b[39m \u001b[38;5;28mprint\u001b[39m(fruit)\n",
      "\u001b[31mValueError\u001b[39m: list.remove(x): x not in list"
     ]
    }
   ],
   "source": [
    "# If wanna remove any item\n",
    "\n",
    "# it will remove the first occrance of an item\n",
    "\n",
    "fruit.remove(\"orangw\")\n",
    "\n",
    "print(fruit)"
   ]
  },
  {
   "cell_type": "code",
   "execution_count": 23,
   "id": "c5a2ef42",
   "metadata": {},
   "outputs": [
    {
     "name": "stdout",
     "output_type": "stream",
     "text": [
      "orange\n",
      "['apple', 'watermelon', 'banana', 'cherry', 'Kiwi', 'Grape', 'gauva']\n"
     ]
    }
   ],
   "source": [
    "# remove and return the last item\n",
    "\n",
    "popped = fruit.pop()\n",
    "\n",
    "print(popped)\n",
    "print(fruit)"
   ]
  },
  {
   "cell_type": "code",
   "execution_count": 24,
   "id": "63cc0c69",
   "metadata": {},
   "outputs": [
    {
     "name": "stdout",
     "output_type": "stream",
     "text": [
      "3\n"
     ]
    }
   ],
   "source": [
    "# Wanna get index of an item\n",
    "\n",
    "index = fruit.index(\"cherry\")\n",
    "print(index)"
   ]
  },
  {
   "cell_type": "code",
   "execution_count": 25,
   "id": "dee4211e",
   "metadata": {},
   "outputs": [
    {
     "name": "stdout",
     "output_type": "stream",
     "text": [
      "1\n"
     ]
    }
   ],
   "source": [
    "# Count specific item occurance\n",
    "\n",
    "print(fruit.count(\"apple\"))"
   ]
  },
  {
   "cell_type": "code",
   "execution_count": 26,
   "id": "af676db5",
   "metadata": {},
   "outputs": [
    {
     "data": {
      "text/plain": [
       "['Grape', 'Kiwi', 'apple', 'banana', 'cherry', 'gauva', 'watermelon']"
      ]
     },
     "execution_count": 26,
     "metadata": {},
     "output_type": "execute_result"
    }
   ],
   "source": [
    "# Sort list according to alphabet/ascending order\n",
    "\n",
    "fruit.sort()\n",
    "fruit"
   ]
  },
  {
   "cell_type": "code",
   "execution_count": 27,
   "id": "fe190376",
   "metadata": {},
   "outputs": [
    {
     "data": {
      "text/plain": [
       "['watermelon', 'gauva', 'cherry', 'banana', 'apple', 'Kiwi', 'Grape']"
      ]
     },
     "execution_count": 27,
     "metadata": {},
     "output_type": "execute_result"
    }
   ],
   "source": [
    "# To reverse a list\n",
    "\n",
    "fruit.reverse()\n",
    "fruit"
   ]
  },
  {
   "cell_type": "code",
   "execution_count": 28,
   "id": "4b53b482",
   "metadata": {},
   "outputs": [
    {
     "data": {
      "text/plain": [
       "[]"
      ]
     },
     "execution_count": 28,
     "metadata": {},
     "output_type": "execute_result"
    }
   ],
   "source": [
    "fruit.clear() #remove all items from list\n",
    "\n",
    "fruit"
   ]
  },
  {
   "cell_type": "markdown",
   "id": "3779b0d5",
   "metadata": {},
   "source": [
    "## Slicing List"
   ]
  },
  {
   "cell_type": "code",
   "execution_count": 29,
   "id": "37d96942",
   "metadata": {},
   "outputs": [
    {
     "name": "stdout",
     "output_type": "stream",
     "text": [
      "[1, 2, 3, 4, 5, 6, 7, 8, 9, 10, 11]\n"
     ]
    }
   ],
   "source": [
    "num = [1,2,3,4,5,6,7,8,9,10,11]\n",
    "\n",
    "print(num)"
   ]
  },
  {
   "cell_type": "code",
   "execution_count": 30,
   "id": "3c6971f2",
   "metadata": {},
   "outputs": [
    {
     "name": "stdout",
     "output_type": "stream",
     "text": [
      "[3, 4, 5]\n"
     ]
    }
   ],
   "source": [
    "print(num[2:5])"
   ]
  },
  {
   "cell_type": "code",
   "execution_count": 31,
   "id": "b1e8575a",
   "metadata": {},
   "outputs": [
    {
     "name": "stdout",
     "output_type": "stream",
     "text": [
      "[1, 2, 3, 4, 5]\n"
     ]
    }
   ],
   "source": [
    "print(num[:5])"
   ]
  },
  {
   "cell_type": "code",
   "execution_count": 32,
   "id": "7445ec0b",
   "metadata": {},
   "outputs": [
    {
     "name": "stdout",
     "output_type": "stream",
     "text": [
      "[6, 7, 8, 9, 10, 11]\n"
     ]
    }
   ],
   "source": [
    "print(num[5:])"
   ]
  },
  {
   "cell_type": "code",
   "execution_count": 33,
   "id": "32b68d20",
   "metadata": {},
   "outputs": [
    {
     "name": "stdout",
     "output_type": "stream",
     "text": [
      "[1, 3, 5, 7, 9, 11]\n"
     ]
    }
   ],
   "source": [
    "print(num[::2])"
   ]
  },
  {
   "cell_type": "code",
   "execution_count": 34,
   "id": "ff02da7a",
   "metadata": {},
   "outputs": [
    {
     "name": "stdout",
     "output_type": "stream",
     "text": [
      "[11, 10, 9, 8, 7, 6, 5, 4, 3, 2, 1]\n"
     ]
    }
   ],
   "source": [
    "print(num[::-1])"
   ]
  },
  {
   "cell_type": "code",
   "execution_count": 35,
   "id": "d05f41a8",
   "metadata": {},
   "outputs": [
    {
     "name": "stdout",
     "output_type": "stream",
     "text": [
      "[11, 9, 7, 5, 3, 1]\n"
     ]
    }
   ],
   "source": [
    "print(num[::-2])"
   ]
  },
  {
   "cell_type": "code",
   "execution_count": 36,
   "id": "d20e0a75",
   "metadata": {},
   "outputs": [
    {
     "name": "stdout",
     "output_type": "stream",
     "text": [
      "[1, 4, 7, 10]\n"
     ]
    }
   ],
   "source": [
    "print(num[::3])"
   ]
  },
  {
   "cell_type": "markdown",
   "id": "3596716a",
   "metadata": {},
   "source": [
    "## Iterating over List"
   ]
  },
  {
   "cell_type": "code",
   "execution_count": 37,
   "id": "084cb878",
   "metadata": {},
   "outputs": [
    {
     "name": "stdout",
     "output_type": "stream",
     "text": [
      "1\n",
      "2\n",
      "3\n",
      "4\n",
      "5\n",
      "6\n",
      "7\n",
      "8\n",
      "9\n",
      "10\n",
      "11\n"
     ]
    }
   ],
   "source": [
    "for i in num:\n",
    "    print(i)"
   ]
  },
  {
   "cell_type": "code",
   "execution_count": 40,
   "id": "af63eca2",
   "metadata": {},
   "outputs": [
    {
     "name": "stdout",
     "output_type": "stream",
     "text": [
      "0 1\n",
      "1 2\n",
      "2 3\n",
      "3 4\n",
      "4 5\n",
      "5 6\n",
      "6 7\n",
      "7 8\n",
      "8 9\n",
      "9 10\n",
      "10 11\n"
     ]
    }
   ],
   "source": [
    "# iterating with index\n",
    "\n",
    "for index,num in enumerate(num):\n",
    "    print(index,num)"
   ]
  },
  {
   "cell_type": "markdown",
   "id": "711e1dfd",
   "metadata": {},
   "source": [
    "## List Comprehension\n",
    "\n",
    "Basic Syntax:                  [expression for item in iterable]\n",
    "\n",
    "with condition logic:          [expression for item in iterable if condition]\n",
    "\n",
    "Nested List Comprehension:     [expression for item1 in iterable1 for item2 in iterable2]"
   ]
  },
  {
   "cell_type": "code",
   "execution_count": 41,
   "id": "04ba5872",
   "metadata": {},
   "outputs": [
    {
     "name": "stdout",
     "output_type": "stream",
     "text": [
      "[0, 1, 4, 9, 16, 25, 36, 49, 64, 81]\n"
     ]
    }
   ],
   "source": [
    "list=[]\n",
    "for x in range(10):\n",
    "    list.append(x**2)\n",
    "\n",
    "print(list)"
   ]
  },
  {
   "cell_type": "code",
   "execution_count": 42,
   "id": "e4d1a096",
   "metadata": {},
   "outputs": [
    {
     "data": {
      "text/plain": [
       "[0, 1, 4, 9, 16, 25, 36, 49, 64, 81]"
      ]
     },
     "execution_count": 42,
     "metadata": {},
     "output_type": "execute_result"
    }
   ],
   "source": [
    "[x**2 for x in range(10)]"
   ]
  },
  {
   "cell_type": "code",
   "execution_count": 43,
   "id": "69289eb2",
   "metadata": {},
   "outputs": [
    {
     "name": "stdout",
     "output_type": "stream",
     "text": [
      "[0, 1, 4, 9, 16]\n"
     ]
    }
   ],
   "source": [
    "# square of set of num\n",
    "\n",
    "sqr = [num**2 for num in range(5)]\n",
    "\n",
    "print(sqr)"
   ]
  },
  {
   "cell_type": "code",
   "execution_count": 44,
   "id": "3fbd76e2",
   "metadata": {},
   "outputs": [
    {
     "name": "stdout",
     "output_type": "stream",
     "text": [
      "[0, 2, 4, 6, 8]\n"
     ]
    }
   ],
   "source": [
    "lst=[]\n",
    "for i in range(10):\n",
    "    if i%2==0:\n",
    "        lst.append(i)\n",
    "\n",
    "\n",
    "print(lst)"
   ]
  },
  {
   "cell_type": "code",
   "execution_count": 45,
   "id": "845eb9f4",
   "metadata": {},
   "outputs": [
    {
     "name": "stdout",
     "output_type": "stream",
     "text": [
      "[0, 2, 4, 6, 8]\n"
     ]
    }
   ],
   "source": [
    "lsst = [num for num in range(10) if num%2==0]\n",
    "\n",
    "print(lsst)"
   ]
  },
  {
   "cell_type": "code",
   "execution_count": 47,
   "id": "cdb48eb4",
   "metadata": {},
   "outputs": [
    {
     "name": "stdout",
     "output_type": "stream",
     "text": [
      "[(1, 'a'), (1, 'b'), (1, 'c'), (1, 'd'), (1, 'e'), (2, 'a'), (2, 'b'), (2, 'c'), (2, 'd'), (2, 'e'), (3, 'a'), (3, 'b'), (3, 'c'), (3, 'd'), (3, 'e'), (4, 'a'), (4, 'b'), (4, 'c'), (4, 'd'), (4, 'e'), (5, 'a'), (5, 'b'), (5, 'c'), (5, 'd'), (5, 'e')]\n",
      "<class 'list'>\n"
     ]
    }
   ],
   "source": [
    "## Nested List Comprehension\n",
    "\n",
    "list1 = [1,2,3,4,5]\n",
    "\n",
    "list2 = ['a','b','c','d','e']\n",
    "\n",
    "pair = [(i,j) for i in list1 for j in list2]\n",
    "\n",
    "print(pair)\n",
    "\n",
    "print(type(pair))"
   ]
  },
  {
   "cell_type": "code",
   "execution_count": 48,
   "id": "ecbb43ef",
   "metadata": {},
   "outputs": [
    {
     "name": "stdout",
     "output_type": "stream",
     "text": [
      "[5, 5, 4, 5]\n"
     ]
    }
   ],
   "source": [
    "## List Comprehension with function calls\n",
    "\n",
    "word = ['apple', 'world', 'kiwi', 'hello']\n",
    "\n",
    "lengths = [len(word) for word in word]\n",
    "\n",
    "print(lengths)"
   ]
  },
  {
   "cell_type": "markdown",
   "id": "990af41d",
   "metadata": {},
   "source": [
    "## Practice Questions"
   ]
  },
  {
   "cell_type": "code",
   "execution_count": 52,
   "id": "a61c15f7",
   "metadata": {},
   "outputs": [
    {
     "name": "stdout",
     "output_type": "stream",
     "text": [
      "[1, 2, 3, 4, 5, 6, 7, 8, 9, 10, 11, 12, 13, 14, 15, 16, 17, 18, 19, 20]\n"
     ]
    }
   ],
   "source": [
    "# Create a list of the first 20 positive integers. Print the list.\n",
    "\n",
    "lst = []\n",
    "\n",
    "for i in range(1,21):\n",
    "    lst.append(i)\n",
    "\n",
    "print(lst)"
   ]
  },
  {
   "cell_type": "code",
   "execution_count": 53,
   "id": "0fdb799b",
   "metadata": {},
   "outputs": [
    {
     "name": "stdout",
     "output_type": "stream",
     "text": [
      "1\n",
      "20\n",
      "11\n"
     ]
    }
   ],
   "source": [
    "# Print the first, middle, and last elements of the list created in Assignment 1.\n",
    "\n",
    "print(lst[0])\n",
    "print(lst[-1])\n",
    "print(lst[len(lst) // 2])"
   ]
  },
  {
   "cell_type": "code",
   "execution_count": 58,
   "id": "cd909aa3",
   "metadata": {},
   "outputs": [
    {
     "name": "stdout",
     "output_type": "stream",
     "text": [
      "[1, 2, 3, 4, 5]\n",
      "[20, 19, 18, 17, 16]\n",
      "[16, 17, 18, 19, 20]\n",
      "[6, 7, 8, 9, 10, 11, 12, 13, 14, 15, 16]\n"
     ]
    }
   ],
   "source": [
    "# Print the first five elements, the last five elements, and the elements from index 5 to 15 of the list created in Assignment 1.\n",
    "\n",
    "print(lst[:5])\n",
    "print(lst[-1:-6:-1])\n",
    "print(lst[-5:])\n",
    "print(lst[5:16])"
   ]
  },
  {
   "cell_type": "code",
   "execution_count": 59,
   "id": "032df9a2",
   "metadata": {},
   "outputs": [
    {
     "name": "stdout",
     "output_type": "stream",
     "text": [
      "[1, 4, 9, 16, 25, 36, 49, 64, 81, 100, 121, 144, 169, 196, 225, 256, 289, 324, 361, 400]\n"
     ]
    }
   ],
   "source": [
    "# Create a new list containing the squares of the first 10 positive integers using a list comprehension. Print the new list.\n",
    "\n",
    "lst2 = [i**2 for i in lst]\n",
    "\n",
    "print(lst2)"
   ]
  },
  {
   "cell_type": "code",
   "execution_count": 60,
   "id": "68fa0f5a",
   "metadata": {},
   "outputs": [
    {
     "name": "stdout",
     "output_type": "stream",
     "text": [
      "[2, 4, 6, 8, 10, 12, 14, 16, 18, 20]\n"
     ]
    }
   ],
   "source": [
    "# Create a new list containing only the even numbers from the list created in Assignment 1 using a list comprehension. Print the new list.\n",
    "\n",
    "lst_even = [i for i in lst if i%2==0]\n",
    "\n",
    "print(lst_even)"
   ]
  },
  {
   "cell_type": "code",
   "execution_count": 64,
   "id": "c7dd33b0",
   "metadata": {},
   "outputs": [
    {
     "name": "stdout",
     "output_type": "stream",
     "text": [
      "Original list: [15, 2, 6, 1, 18, 6, 4, 20, 16, 16, 2, 14, 14, 3, 2]\n",
      "Sorted in ascending order: [1, 2, 2, 2, 3, 4, 6, 6, 14, 14, 15, 16, 16, 18, 20]\n",
      "Sorted in descending order: [20, 18, 16, 16, 15, 14, 14, 6, 6, 4, 3, 2, 2, 2, 1]\n"
     ]
    },
    {
     "ename": "TypeError",
     "evalue": "'list' object is not callable",
     "output_type": "error",
     "traceback": [
      "\u001b[31m---------------------------------------------------------------------------\u001b[39m",
      "\u001b[31mTypeError\u001b[39m                                 Traceback (most recent call last)",
      "\u001b[36mCell\u001b[39m\u001b[36m \u001b[39m\u001b[32mIn[64]\u001b[39m\u001b[32m, line 14\u001b[39m\n\u001b[32m     11\u001b[39m sorted_numbers_desc = \u001b[38;5;28msorted\u001b[39m(random_numbers, reverse=\u001b[38;5;28;01mTrue\u001b[39;00m)\n\u001b[32m     12\u001b[39m \u001b[38;5;28mprint\u001b[39m(\u001b[33mf\u001b[39m\u001b[33m\"\u001b[39m\u001b[33mSorted in descending order: \u001b[39m\u001b[38;5;132;01m{\u001b[39;00msorted_numbers_desc\u001b[38;5;132;01m}\u001b[39;00m\u001b[33m\"\u001b[39m)\n\u001b[32m---> \u001b[39m\u001b[32m14\u001b[39m unique_numbers = \u001b[38;5;28;43mlist\u001b[39;49m\u001b[43m(\u001b[49m\u001b[38;5;28;43mset\u001b[39;49m\u001b[43m(\u001b[49m\u001b[43mrandom_numbers\u001b[49m\u001b[43m)\u001b[49m\u001b[43m)\u001b[49m\n\u001b[32m     15\u001b[39m \u001b[38;5;28mprint\u001b[39m(\u001b[33mf\u001b[39m\u001b[33m\"\u001b[39m\u001b[33mList with duplicates removed: \u001b[39m\u001b[38;5;132;01m{\u001b[39;00munique_numbers\u001b[38;5;132;01m}\u001b[39;00m\u001b[33m\"\u001b[39m)\n",
      "\u001b[31mTypeError\u001b[39m: 'list' object is not callable"
     ]
    }
   ],
   "source": [
    "# Create a list of random numbers and sort it in ascending and descending order. Remove the duplicates from the list and print the modified list.\n",
    "\n",
    "import random\n",
    "\n",
    "random_numbers = [random.randint(1, 20) for _ in range(15)]\n",
    "print(f\"Original list: {random_numbers}\")\n",
    "\n",
    "sorted_numbers = sorted(random_numbers)\n",
    "print(f\"Sorted in ascending order: {sorted_numbers}\")\n",
    "\n",
    "sorted_numbers_desc = sorted(random_numbers, reverse=True)\n",
    "print(f\"Sorted in descending order: {sorted_numbers_desc}\")\n",
    "\n",
    "unique_numbers = list(set(random_numbers))\n",
    "print(f\"List with duplicates removed: {unique_numbers}\")"
   ]
  },
  {
   "cell_type": "code",
   "execution_count": null,
   "id": "ab40a199",
   "metadata": {},
   "outputs": [],
   "source": []
  }
 ],
 "metadata": {
  "kernelspec": {
   "display_name": "venv",
   "language": "python",
   "name": "python3"
  },
  "language_info": {
   "codemirror_mode": {
    "name": "ipython",
    "version": 3
   },
   "file_extension": ".py",
   "mimetype": "text/x-python",
   "name": "python",
   "nbconvert_exporter": "python",
   "pygments_lexer": "ipython3",
   "version": "3.13.5"
  }
 },
 "nbformat": 4,
 "nbformat_minor": 5
}

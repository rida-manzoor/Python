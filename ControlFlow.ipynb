{
 "cells": [
  {
   "cell_type": "code",
   "execution_count": 1,
   "id": "c454512a",
   "metadata": {},
   "outputs": [
    {
     "name": "stdout",
     "output_type": "stream",
     "text": [
      "Hello World\n"
     ]
    }
   ],
   "source": [
    "print(\"Hello World\")"
   ]
  },
  {
   "cell_type": "markdown",
   "id": "d9b750d8",
   "metadata": {},
   "source": [
    "# Conditional Statements\n",
    "\n",
    "1. If Statement: Evaluate a condition and execute following code block if condition is true\n",
    "\n",
    "2. Else Statement: Executes a block of code if the condition in IF statement is False\n",
    "\n",
    "3. Elif statement: Used to check multiple conditions\n",
    "\n",
    "4. Nested Conditional Statements"
   ]
  },
  {
   "cell_type": "code",
   "execution_count": 5,
   "id": "85369c34",
   "metadata": {},
   "outputs": [
    {
     "name": "stdout",
     "output_type": "stream",
     "text": [
      "I am really good\n"
     ]
    }
   ],
   "source": [
    "## If Statement\n",
    "\n",
    "age = 18\n",
    "\n",
    "if age<=20:\n",
    "    print(\"I am really good\")"
   ]
  },
  {
   "cell_type": "code",
   "execution_count": 6,
   "id": "458a12e8",
   "metadata": {},
   "outputs": [
    {
     "name": "stdout",
     "output_type": "stream",
     "text": [
      "I am not that good\n"
     ]
    }
   ],
   "source": [
    "## Else statement\n",
    "\n",
    "age=18\n",
    "\n",
    "if age>=20:\n",
    "    print(\"I am really good\")\n",
    "else:\n",
    "    print(\"I am not that good\")"
   ]
  },
  {
   "cell_type": "code",
   "execution_count": 8,
   "id": "c1206de7",
   "metadata": {},
   "outputs": [
    {
     "name": "stdout",
     "output_type": "stream",
     "text": [
      "You are minor\n"
     ]
    }
   ],
   "source": [
    "## Elif Statement\n",
    "\n",
    "age = 12\n",
    "\n",
    "if age<13:\n",
    "    print(\"You are minor\")\n",
    "elif age<=18:\n",
    "    print(\"You are a teenager\")\n",
    "else: \n",
    "    print(\"You are an adult\")"
   ]
  },
  {
   "cell_type": "code",
   "execution_count": 11,
   "id": "f2902c17",
   "metadata": {},
   "outputs": [
    {
     "name": "stdout",
     "output_type": "stream",
     "text": [
      "Number is odd\n"
     ]
    }
   ],
   "source": [
    "num = int(input(\"Enter the number\"))\n",
    "\n",
    "if num>=0:\n",
    "    if num%2==0:\n",
    "        print(\"Number is even\")\n",
    "    else:\n",
    "        print(\"Number is odd\")\n",
    "else:\n",
    "    print(\"Number is negative\")"
   ]
  },
  {
   "cell_type": "code",
   "execution_count": 14,
   "id": "a87f93de",
   "metadata": {},
   "outputs": [
    {
     "name": "stdout",
     "output_type": "stream",
     "text": [
      "Year is not a leap year\n"
     ]
    }
   ],
   "source": [
    "## Determine if a year is a leap year using nested codition statements\n",
    "\n",
    "year = int(input(\"Enter a year\"))\n",
    "\n",
    "if year%4==0:\n",
    "    if year%100==0:\n",
    "        if year%400==0:\n",
    "            print(year,\"is a leap year\")\n",
    "        else:\n",
    "            print(\"Year is not a leap year\")\n",
    "    else:\n",
    "        print(\"Year is not a leap year\")\n",
    "else:\n",
    "    print(\"Year is not a leap year\")"
   ]
  },
  {
   "cell_type": "code",
   "execution_count": 17,
   "id": "4ceca42c",
   "metadata": {},
   "outputs": [
    {
     "name": "stdout",
     "output_type": "stream",
     "text": [
      "-2.0\n"
     ]
    }
   ],
   "source": [
    "## Simple Calculator\n",
    "\n",
    "num1 = float(input(\"Enter first Number:\"))\n",
    "num2 = float(input(\"Enter second number:\"))\n",
    "operation = input(\"Enter operation(+,-,*</):)\")\n",
    "\n",
    "if operation == '+':\n",
    "    result = num1+num2\n",
    "elif operation =='-':\n",
    "    result = num1-num2\n",
    "elif operation =='*':\n",
    "    result = num1*num2\n",
    "elif operatiom == '/':\n",
    "    if num2!=0:\n",
    "        result = num1/num2\n",
    "    else:\n",
    "        result = \"Error\"\n",
    "else:\n",
    "    result = \"Invalid Operation\"\n",
    "\n",
    "print(result)"
   ]
  },
  {
   "cell_type": "code",
   "execution_count": 18,
   "id": "1a890fff",
   "metadata": {},
   "outputs": [
    {
     "name": "stdout",
     "output_type": "stream",
     "text": [
      "-1 is not positive\n"
     ]
    }
   ],
   "source": [
    "# Write a program that asks the user to input a number and prints whether the number is positive.\n",
    "\n",
    "num = int(input(\"Enter a number:\"))\n",
    "\n",
    "if num>0:\n",
    "    print(num,\"is positive\")\n",
    "else:\n",
    "    print(num,\"is not positive\")"
   ]
  }
 ],
 "metadata": {
  "kernelspec": {
   "display_name": "venv",
   "language": "python",
   "name": "python3"
  },
  "language_info": {
   "codemirror_mode": {
    "name": "ipython",
    "version": 3
   },
   "file_extension": ".py",
   "mimetype": "text/x-python",
   "name": "python",
   "nbconvert_exporter": "python",
   "pygments_lexer": "ipython3",
   "version": "3.13.5"
  }
 },
 "nbformat": 4,
 "nbformat_minor": 5
}

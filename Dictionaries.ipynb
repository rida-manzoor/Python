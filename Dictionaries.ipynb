{
 "cells": [
  {
   "cell_type": "markdown",
   "id": "db02cb5d",
   "metadata": {},
   "source": [
    "# Dictionaries\n",
    "\n",
    "It is an unordered collections of items, They store in key-value pairs. Key must be unique and immutable."
   ]
  },
  {
   "cell_type": "code",
   "execution_count": 1,
   "id": "4d4902e6",
   "metadata": {},
   "outputs": [
    {
     "name": "stdout",
     "output_type": "stream",
     "text": [
      "<class 'dict'>\n"
     ]
    }
   ],
   "source": [
    "# Creating Dictionaries\n",
    "\n",
    "dic = {}\n",
    "print(type(dic))"
   ]
  },
  {
   "cell_type": "code",
   "execution_count": 2,
   "id": "2f93c78b",
   "metadata": {},
   "outputs": [
    {
     "name": "stdout",
     "output_type": "stream",
     "text": [
      "<class 'dict'>\n"
     ]
    }
   ],
   "source": [
    "dic1 = dict()\n",
    "print(type(dic1))"
   ]
  },
  {
   "cell_type": "code",
   "execution_count": 4,
   "id": "6e5acd47",
   "metadata": {},
   "outputs": [
    {
     "name": "stdout",
     "output_type": "stream",
     "text": [
      "{'name': 'Rida', 'Age': 19, 'Grade': 'A'}\n"
     ]
    }
   ],
   "source": [
    "student = {\"name\":\"Rida\", \"Age\":19, \"Grade\":'A'}\n",
    "print(student)"
   ]
  },
  {
   "cell_type": "code",
   "execution_count": 6,
   "id": "f4ff4d8e",
   "metadata": {},
   "outputs": [
    {
     "name": "stdout",
     "output_type": "stream",
     "text": [
      "A\n",
      "A\n"
     ]
    }
   ],
   "source": [
    "# Accessing dict elements\n",
    "\n",
    "print(student['Grade'])\n",
    "\n",
    "# Accessing using get() method\n",
    "print(student.get('Grade'))"
   ]
  },
  {
   "cell_type": "code",
   "execution_count": 7,
   "id": "a136c2cb",
   "metadata": {},
   "outputs": [
    {
     "name": "stdout",
     "output_type": "stream",
     "text": [
      "{'name': 'Rida', 'Age': 19, 'Grade': 'A'}\n"
     ]
    }
   ],
   "source": [
    "## Modifying dict elements\n",
    "\n",
    "print(student)"
   ]
  },
  {
   "cell_type": "code",
   "execution_count": null,
   "id": "a7c948fd",
   "metadata": {},
   "outputs": [
    {
     "name": "stdout",
     "output_type": "stream",
     "text": [
      "{'name': 'Rida', 'Age': 31, 'Grade': 'A'}\n",
      "{'name': 'Rida', 'Age': 31, 'Grade': 'A', 'class': 2}\n"
     ]
    }
   ],
   "source": [
    "student['Age']=31 #update key value\n",
    "print(student)\n",
    "\n",
    "student['class']=2. # added a new key and value\n",
    "print(student)"
   ]
  },
  {
   "cell_type": "code",
   "execution_count": 9,
   "id": "e4d648b0",
   "metadata": {},
   "outputs": [
    {
     "name": "stdout",
     "output_type": "stream",
     "text": [
      "{'name': 'Rida', 'Age': 31, 'class': 2}\n"
     ]
    }
   ],
   "source": [
    "del student['Grade']    #del key and value\n",
    "\n",
    "print(student)"
   ]
  },
  {
   "cell_type": "markdown",
   "id": "676f6e6f",
   "metadata": {},
   "source": [
    "## Dictionary Methods"
   ]
  },
  {
   "cell_type": "code",
   "execution_count": 10,
   "id": "70fd21fa",
   "metadata": {},
   "outputs": [
    {
     "name": "stdout",
     "output_type": "stream",
     "text": [
      "dict_keys(['name', 'Age', 'class'])\n"
     ]
    }
   ],
   "source": [
    "keys = student.keys()\n",
    "\n",
    "print(keys)"
   ]
  },
  {
   "cell_type": "code",
   "execution_count": 11,
   "id": "0d224ca0",
   "metadata": {},
   "outputs": [
    {
     "name": "stdout",
     "output_type": "stream",
     "text": [
      "{'name': 'Rida', 'Age': 31, 'class': 2}\n"
     ]
    }
   ],
   "source": [
    "values = student.values()\n",
    "print(student)"
   ]
  },
  {
   "cell_type": "code",
   "execution_count": 13,
   "id": "d983ace2",
   "metadata": {},
   "outputs": [
    {
     "name": "stdout",
     "output_type": "stream",
     "text": [
      "dict_items([('name', 'Rida'), ('Age', 31), ('class', 2)])\n"
     ]
    }
   ],
   "source": [
    "items = student.items()\n",
    "print(items)"
   ]
  },
  {
   "cell_type": "code",
   "execution_count": 14,
   "id": "7171f983",
   "metadata": {},
   "outputs": [
    {
     "name": "stdout",
     "output_type": "stream",
     "text": [
      "{'name': 'Rida', 'Age': 31, 'class': 2}\n",
      "{'name': 'Rida', 'Age': 31, 'class': 2}\n"
     ]
    }
   ],
   "source": [
    "# Shallow copy\n",
    "\n",
    "stu_copy = student\n",
    "\n",
    "print(stu_copy)\n",
    "print(student)"
   ]
  },
  {
   "cell_type": "code",
   "execution_count": 15,
   "id": "112c5745",
   "metadata": {},
   "outputs": [],
   "source": [
    "student['Age'] = 12"
   ]
  },
  {
   "cell_type": "code",
   "execution_count": 16,
   "id": "4b5a41f3",
   "metadata": {},
   "outputs": [
    {
     "name": "stdout",
     "output_type": "stream",
     "text": [
      "{'name': 'Rida', 'Age': 12, 'class': 2}\n",
      "{'name': 'Rida', 'Age': 12, 'class': 2}\n"
     ]
    }
   ],
   "source": [
    "print(student)\n",
    "print(stu_copy)"
   ]
  },
  {
   "cell_type": "code",
   "execution_count": 17,
   "id": "6371ba73",
   "metadata": {},
   "outputs": [],
   "source": [
    "stu_copy2 = student.copy()\n"
   ]
  },
  {
   "cell_type": "code",
   "execution_count": 18,
   "id": "7cc6ef57",
   "metadata": {},
   "outputs": [
    {
     "name": "stdout",
     "output_type": "stream",
     "text": [
      "{'name': 'Rida', 'Age': 12, 'class': 2, 'Name': 'Jello'}\n",
      "{'name': 'Rida', 'Age': 12, 'class': 2}\n"
     ]
    }
   ],
   "source": [
    "student['Name'] = 'Jello'\n",
    "\n",
    "print(student)\n",
    "print(stu_copy2)"
   ]
  },
  {
   "cell_type": "code",
   "execution_count": 19,
   "id": "b848d7d3",
   "metadata": {},
   "outputs": [
    {
     "name": "stdout",
     "output_type": "stream",
     "text": [
      "name\n",
      "Age\n",
      "class\n",
      "Name\n"
     ]
    }
   ],
   "source": [
    "# Iterating over dict\n",
    "\n",
    "for keys in student.keys():\n",
    "    print(keys)"
   ]
  },
  {
   "cell_type": "code",
   "execution_count": 20,
   "id": "4c5519d3",
   "metadata": {},
   "outputs": [
    {
     "name": "stdout",
     "output_type": "stream",
     "text": [
      "Rida\n",
      "12\n",
      "2\n",
      "Jello\n"
     ]
    }
   ],
   "source": [
    "for keys in student.values():\n",
    "    print(keys)"
   ]
  },
  {
   "cell_type": "code",
   "execution_count": 22,
   "id": "a3162598",
   "metadata": {},
   "outputs": [
    {
     "name": "stdout",
     "output_type": "stream",
     "text": [
      "name dict_values(['Rida', 12, 2, 'Jello'])\n",
      "Age dict_values(['Rida', 12, 2, 'Jello'])\n",
      "class dict_values(['Rida', 12, 2, 'Jello'])\n",
      "Name dict_values(['Rida', 12, 2, 'Jello'])\n"
     ]
    }
   ],
   "source": [
    "for keys,value in student.items():\n",
    "    print(keys,values)"
   ]
  },
  {
   "cell_type": "code",
   "execution_count": 24,
   "id": "573c2f59",
   "metadata": {},
   "outputs": [
    {
     "name": "stdout",
     "output_type": "stream",
     "text": [
      "{'student1': {'name': 'Jello', 'age': 12}, 'student2': {'name': 'Cairo', 'age': 13}}\n"
     ]
    }
   ],
   "source": [
    "# Nested Dict\n",
    "\n",
    "stu = {\n",
    "    'student1':{'name':'Jello','age':12},\n",
    "    'student2':{'name':'Cairo','age':13}\n",
    "}\n",
    "\n",
    "print(stu)"
   ]
  },
  {
   "cell_type": "code",
   "execution_count": 25,
   "id": "bfd97eef",
   "metadata": {},
   "outputs": [
    {
     "name": "stdout",
     "output_type": "stream",
     "text": [
      "Cairo\n"
     ]
    }
   ],
   "source": [
    "# access nested dict\n",
    "\n",
    "print(stu['student2']['name'])"
   ]
  },
  {
   "cell_type": "code",
   "execution_count": 26,
   "id": "f6fbb456",
   "metadata": {},
   "outputs": [
    {
     "name": "stdout",
     "output_type": "stream",
     "text": [
      "student1:{'name': 'Jello', 'age': 12}\n",
      "name:Jello\n",
      "age:12\n",
      "student2:{'name': 'Cairo', 'age': 13}\n",
      "name:Cairo\n",
      "age:13\n"
     ]
    }
   ],
   "source": [
    "## Iterating over nested dict\n",
    "\n",
    "for stu_id, stu_info in stu.items():\n",
    "    print(f\"{stu_id}:{stu_info}\")\n",
    "    for key,value in stu_info.items():\n",
    "        print(f\"{key}:{value}\")\n"
   ]
  },
  {
   "cell_type": "markdown",
   "id": "a7748bbf",
   "metadata": {},
   "source": [
    "## Dictionary Comprehension"
   ]
  },
  {
   "cell_type": "code",
   "execution_count": 31,
   "id": "8d7c742c",
   "metadata": {},
   "outputs": [
    {
     "name": "stdout",
     "output_type": "stream",
     "text": [
      "{0: 0, 1: 1, 2: 4, 3: 9, 4: 16}\n"
     ]
    }
   ],
   "source": [
    "square = {x:x**2 for x in range(5)}\n",
    "print(square)"
   ]
  },
  {
   "cell_type": "code",
   "execution_count": 32,
   "id": "a374c737",
   "metadata": {},
   "outputs": [
    {
     "name": "stdout",
     "output_type": "stream",
     "text": [
      "{0: 0, 2: 4, 4: 16}\n"
     ]
    }
   ],
   "source": [
    "even = {x:x**2 for x in range(5) if x%2==0}\n",
    "print(even)"
   ]
  },
  {
   "cell_type": "code",
   "execution_count": 33,
   "id": "aedfad37",
   "metadata": {},
   "outputs": [
    {
     "name": "stdout",
     "output_type": "stream",
     "text": [
      "{'name': 'kay', 'age': 4, 'class': 'a'}\n"
     ]
    }
   ],
   "source": [
    "# Merge two dict \n",
    "\n",
    "dict1 = {'name':'kay','age':2}\n",
    "dict2 = {'age':4,'class':'a'}\n",
    "\n",
    "merge_dict = {**dict1,**dict2}\n",
    "\n",
    "print(merge_dict)"
   ]
  },
  {
   "cell_type": "code",
   "execution_count": 34,
   "id": "9ab3dbb7",
   "metadata": {},
   "outputs": [
    {
     "name": "stdout",
     "output_type": "stream",
     "text": [
      "{1: 1, 2: 4, 3: 9, 4: 16, 5: 25, 6: 36, 7: 49, 8: 64, 9: 81, 10: 100}\n"
     ]
    }
   ],
   "source": [
    "# Create a dictionary with the first 10 positive integers as keys and their squares as values. Print the dictionary.\n",
    "\n",
    "dic = {i:i**2 for i in range(1,11)}\n",
    "\n",
    "print(dic)"
   ]
  },
  {
   "cell_type": "code",
   "execution_count": 36,
   "id": "2573a1fe",
   "metadata": {},
   "outputs": [
    {
     "name": "stdout",
     "output_type": "stream",
     "text": [
      "25\n",
      "dict_keys([1, 2, 3, 4, 5, 6, 7, 8, 9, 10])\n"
     ]
    }
   ],
   "source": [
    "# Print the value of the key 5 and the keys of the dictionary created in Assignment 1.\n",
    "\n",
    "print(dic[5])\n",
    "\n",
    "print(dic.keys())"
   ]
  },
  {
   "cell_type": "code",
   "execution_count": 39,
   "id": "eab40738",
   "metadata": {},
   "outputs": [
    {
     "name": "stdout",
     "output_type": "stream",
     "text": [
      "{2: 4, 3: 9, 4: 16, 5: 25, 6: 36, 7: 49, 8: 64, 9: 81, 10: 100, 11: 121}\n"
     ]
    }
   ],
   "source": [
    "# Add a new key-value pair (11, 121) to the dictionary created in Assignment 1 and then remove the key-value pair with key 1. Print the modified dictionary.\n",
    "\n",
    "dic[11] = 121\n",
    "dic.pop(1)\n",
    "print(dic)"
   ]
  },
  {
   "cell_type": "code",
   "execution_count": 40,
   "id": "520fdbc3",
   "metadata": {},
   "outputs": [
    {
     "name": "stdout",
     "output_type": "stream",
     "text": [
      "2:4\n",
      "3:9\n",
      "4:16\n",
      "5:25\n",
      "6:36\n",
      "7:49\n",
      "8:64\n",
      "9:81\n",
      "10:100\n",
      "11:121\n"
     ]
    }
   ],
   "source": [
    "# Iterate over the dictionary created in Assignment 1 and print each key-value pair.\n",
    "\n",
    "for key, value in dic.items():\n",
    "    print(f\"{key}:{value}\")"
   ]
  },
  {
   "cell_type": "code",
   "execution_count": 43,
   "id": "07980204",
   "metadata": {},
   "outputs": [
    {
     "name": "stdout",
     "output_type": "stream",
     "text": [
      "{1: 1, 2: 8, 3: 27, 4: 64, 5: 125, 6: 216, 7: 343, 8: 512, 9: 729, 10: 1000}\n"
     ]
    }
   ],
   "source": [
    "# Create a new dictionary containing the cubes of the first 10 positive integers using a dictionary comprehension. Print the new dictionary.\n",
    "\n",
    "cubes = {i: i**3 for i in range(1, 11)}\n",
    "print(cubes)"
   ]
  },
  {
   "cell_type": "code",
   "execution_count": 44,
   "id": "f28c8121",
   "metadata": {},
   "outputs": [],
   "source": [
    "# Create two dictionaries: one with keys as the first 5 positive integers and values as their squares, and another with keys as the next 5 positive integers \n",
    "# and values as their squares. Merge these dictionaries into a single dictionary and print it.\n",
    "\n",
    "dict1 = {i:i**2 for i in range(1,6)}\n",
    "dict2 = {i:i**2 for i in range(6,11)}\n",
    "\n",
    "merge = {**dict1,**dict2}"
   ]
  },
  {
   "cell_type": "code",
   "execution_count": 45,
   "id": "992c936c",
   "metadata": {},
   "outputs": [
    {
     "name": "stdout",
     "output_type": "stream",
     "text": [
      "{1: 1, 2: 4, 3: 9, 4: 16, 5: 25, 6: 36, 7: 49, 8: 64, 9: 81, 10: 100}\n"
     ]
    }
   ],
   "source": [
    "print(merge)"
   ]
  },
  {
   "cell_type": "code",
   "execution_count": 46,
   "id": "94c35b9e",
   "metadata": {},
   "outputs": [
    {
     "name": "stdout",
     "output_type": "stream",
     "text": [
      "{'name': 'roni', 'age': 12, 'grades': {'math': 2, 'science': 23, 'english': 21}}\n"
     ]
    }
   ],
   "source": [
    "# Create a nested dictionary representing a student with keys 'name', 'age', 'grades', where 'grades' is another \n",
    "# dictionary with keys 'math', 'science', and 'english'. Print the nested dictionary.\n",
    "\n",
    "\n",
    "stu = {\n",
    "    'name':'roni',\n",
    "    'age':12,\n",
    "    'grades':{'math':2,'science':23,'english':21}\n",
    "}\n",
    "print(stu)"
   ]
  },
  {
   "cell_type": "code",
   "execution_count": 47,
   "id": "e1de0d57",
   "metadata": {},
   "outputs": [
    {
     "name": "stdout",
     "output_type": "stream",
     "text": [
      "{1: [1, 2, 3, 4, 5], 2: [2, 4, 6, 8, 10], 3: [3, 6, 9, 12, 15], 4: [4, 8, 12, 16, 20], 5: [5, 10, 15, 20, 25]}\n"
     ]
    }
   ],
   "source": [
    "# Create a dictionary where the keys are the first 5 positive integers and the values are lists containing the first 5 multiples of the key. Print the dictionary.\n",
    "\n",
    "multiples = {i: [i * j for j in range(1, 6)] for i in range(1, 6)}\n",
    "print(multiples)"
   ]
  },
  {
   "cell_type": "code",
   "execution_count": 48,
   "id": "1cbe873e",
   "metadata": {},
   "outputs": [
    {
     "name": "stdout",
     "output_type": "stream",
     "text": [
      "{1: (1, 1), 2: (2, 4), 3: (3, 9), 4: (4, 16), 5: (5, 25)}\n"
     ]
    }
   ],
   "source": [
    "# Create a dictionary where the keys are the first 5 positive integers and the values are tuples containing the key and its square. Print the dictionary.\n",
    "\n",
    "tuple_dict = {i: (i, i**2) for i in range(1, 6)}\n",
    "print(tuple_dict)"
   ]
  },
  {
   "cell_type": "code",
   "execution_count": 54,
   "id": "f13ade5f",
   "metadata": {},
   "outputs": [
    {
     "name": "stdout",
     "output_type": "stream",
     "text": [
      "Not\n"
     ]
    }
   ],
   "source": [
    "# Create a default dictionary where each key has a default value of an empty list. Add some elements to the lists and print the dictionary.\n",
    "\n",
    "dict1\n",
    "print(dict1.get(6, 'Not'))"
   ]
  },
  {
   "cell_type": "code",
   "execution_count": 55,
   "id": "e9ffdaf6",
   "metadata": {},
   "outputs": [
    {
     "name": "stdout",
     "output_type": "stream",
     "text": [
      "{\"title\": \"To Kill a Mockingbird\", \"author\": \"Harper Lee\", \"year\": 1960, \"genre\": \"Fiction\"}\n"
     ]
    }
   ],
   "source": [
    "# Create a dictionary representing a book with keys 'title', 'author', 'year', and 'genre'. Convert the dictionary to a JSON string and print it.\n",
    "\n",
    "import json\n",
    "\n",
    "book = {\n",
    "    'title': 'To Kill a Mockingbird',\n",
    "    'author': 'Harper Lee',\n",
    "    'year': 1960,\n",
    "    'genre': 'Fiction'\n",
    "}\n",
    "book_json = json.dumps(book)\n",
    "print(book_json)"
   ]
  },
  {
   "cell_type": "code",
   "execution_count": null,
   "id": "1a9c2e6a",
   "metadata": {},
   "outputs": [],
   "source": []
  }
 ],
 "metadata": {
  "kernelspec": {
   "display_name": "venv",
   "language": "python",
   "name": "python3"
  },
  "language_info": {
   "codemirror_mode": {
    "name": "ipython",
    "version": 3
   },
   "file_extension": ".py",
   "mimetype": "text/x-python",
   "name": "python",
   "nbconvert_exporter": "python",
   "pygments_lexer": "ipython3",
   "version": "3.13.5"
  }
 },
 "nbformat": 4,
 "nbformat_minor": 5
}
